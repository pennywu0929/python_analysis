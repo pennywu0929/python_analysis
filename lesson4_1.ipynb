{
 "cells": [
  {
   "cell_type": "code",
   "execution_count": 2,
   "metadata": {},
   "outputs": [
    {
     "name": "stdout",
     "output_type": "stream",
     "text": [
      "蘋果\n",
      "香蕉\n",
      "水梨\n"
     ]
    }
   ],
   "source": [
    "#如何依順序取出串列資料和映射資料的元素值\n",
    "#for_in迴圈\n",
    "fruits=['蘋果','香蕉','水梨']\n",
    "for fruit in fruits:print(fruit)"
   ]
  },
  {
   "cell_type": "code",
   "execution_count": 3,
   "metadata": {},
   "outputs": [
    {
     "name": "stdout",
     "output_type": "stream",
     "text": [
      "0->蘋果\n",
      "=====\n",
      "1->香蕉\n",
      "=====\n",
      "2->水梨\n",
      "=====\n"
     ]
    }
   ],
   "source": [
    "for index,fruit in enumerate(fruits):\n",
    "    print(index,fruit,sep='->') #這裡的()是tuple資料\n",
    "    print(\"=====\")"
   ]
  },
  {
   "cell_type": "code",
   "execution_count": 9,
   "metadata": {},
   "outputs": [
    {
     "name": "stdout",
     "output_type": "stream",
     "text": [
      "Taoyuan:桃園\n",
      "Taipei:台北\n",
      "New Taipei:新北\n"
     ]
    }
   ],
   "source": [
    "city= {'Taoyuan':'桃園','Taipei':'台北','New Taipei':'新北'}\n",
    "for key, value in city.items():\n",
    " print(f\"{key}:{value}\") #字串插補"
   ]
  },
  {
   "cell_type": "code",
   "execution_count": 11,
   "metadata": {},
   "outputs": [
    {
     "data": {
      "text/plain": [
       "[{'name': 'student1', 'Chinese': 85, 'English': 98, 'math': 88},\n",
       " {'name': 'student2', 'Chinese': 59, 'English': 63, 'math': 54},\n",
       " {'name': 'student3', 'Chinese': 79, 'English': 68, 'math': 95},\n",
       " {'name': 'student4', 'Chinese': 89, 'English': 54, 'math': 81},\n",
       " {'name': 'student5', 'Chinese': 74, 'English': 53, 'math': 81},\n",
       " {'name': 'student6', 'Chinese': 50, 'English': 74, 'math': 73},\n",
       " {'name': 'student7', 'Chinese': 96, 'English': 51, 'math': 79},\n",
       " {'name': 'student8', 'Chinese': 84, 'English': 63, 'math': 63},\n",
       " {'name': 'student9', 'Chinese': 64, 'English': 91, 'math': 64},\n",
       " {'name': 'student10', 'Chinese': 89, 'English': 71, 'math': 96},\n",
       " {'name': 'student11', 'Chinese': 60, 'English': 91, 'math': 63},\n",
       " {'name': 'student12', 'Chinese': 78, 'English': 86, 'math': 71},\n",
       " {'name': 'student13', 'Chinese': 92, 'English': 55, 'math': 51},\n",
       " {'name': 'student14', 'Chinese': 95, 'English': 89, 'math': 89},\n",
       " {'name': 'student15', 'Chinese': 83, 'English': 86, 'math': 60},\n",
       " {'name': 'student16', 'Chinese': 53, 'English': 73, 'math': 50},\n",
       " {'name': 'student17', 'Chinese': 68, 'English': 81, 'math': 99},\n",
       " {'name': 'student18', 'Chinese': 64, 'English': 70, 'math': 69},\n",
       " {'name': 'student19', 'Chinese': 51, 'English': 70, 'math': 92},\n",
       " {'name': 'student20', 'Chinese': 90, 'English': 93, 'math': 52},\n",
       " {'name': 'student21', 'Chinese': 60, 'English': 77, 'math': 70},\n",
       " {'name': 'student22', 'Chinese': 75, 'English': 66, 'math': 72},\n",
       " {'name': 'student23', 'Chinese': 94, 'English': 63, 'math': 87},\n",
       " {'name': 'student24', 'Chinese': 72, 'English': 68, 'math': 90},\n",
       " {'name': 'student25', 'Chinese': 70, 'English': 67, 'math': 89},\n",
       " {'name': 'student26', 'Chinese': 97, 'English': 98, 'math': 94},\n",
       " {'name': 'student27', 'Chinese': 63, 'English': 60, 'math': 92},\n",
       " {'name': 'student28', 'Chinese': 87, 'English': 94, 'math': 55},\n",
       " {'name': 'student29', 'Chinese': 89, 'English': 90, 'math': 71},\n",
       " {'name': 'student30', 'Chinese': 87, 'English': 79, 'math': 94},\n",
       " {'name': 'student31', 'Chinese': 92, 'English': 64, 'math': 81},\n",
       " {'name': 'student32', 'Chinese': 89, 'English': 52, 'math': 100},\n",
       " {'name': 'student33', 'Chinese': 70, 'English': 83, 'math': 98},\n",
       " {'name': 'student34', 'Chinese': 68, 'English': 52, 'math': 52},\n",
       " {'name': 'student35', 'Chinese': 53, 'English': 80, 'math': 71},\n",
       " {'name': 'student36', 'Chinese': 83, 'English': 71, 'math': 62},\n",
       " {'name': 'student37', 'Chinese': 52, 'English': 84, 'math': 56},\n",
       " {'name': 'student38', 'Chinese': 90, 'English': 52, 'math': 81},\n",
       " {'name': 'student39', 'Chinese': 96, 'English': 62, 'math': 69},\n",
       " {'name': 'student40', 'Chinese': 72, 'English': 96, 'math': 61},\n",
       " {'name': 'student41', 'Chinese': 56, 'English': 58, 'math': 67},\n",
       " {'name': 'student42', 'Chinese': 91, 'English': 53, 'math': 64},\n",
       " {'name': 'student43', 'Chinese': 95, 'English': 90, 'math': 69},\n",
       " {'name': 'student44', 'Chinese': 93, 'English': 90, 'math': 89},\n",
       " {'name': 'student45', 'Chinese': 53, 'English': 55, 'math': 78},\n",
       " {'name': 'student46', 'Chinese': 60, 'English': 57, 'math': 54},\n",
       " {'name': 'student47', 'Chinese': 90, 'English': 57, 'math': 82},\n",
       " {'name': 'student48', 'Chinese': 94, 'English': 53, 'math': 67},\n",
       " {'name': 'student49', 'Chinese': 59, 'English': 52, 'math': 82},\n",
       " {'name': 'student50', 'Chinese': 71, 'English': 94, 'math': 71}]"
      ]
     },
     "execution_count": 11,
     "metadata": {},
     "output_type": "execute_result"
    }
   ],
   "source": [
    "import random #隨機亂數\n",
    "students = []\n",
    "for i in range(1,51):\n",
    "    students.append(\n",
    "        {'name':f'student{i}',\n",
    "         'Chinese':random.randint(50,100),\n",
    "         'English':random.randint(50,100),\n",
    "         'math':random.randint(50,100)})\n",
    "students"
   ]
  },
  {
   "cell_type": "code",
   "execution_count": 15,
   "metadata": {},
   "outputs": [
    {
     "name": "stdout",
     "output_type": "stream",
     "text": [
      "姓名:student1, 國文:85, 英文:98, 數學:88, \n",
      "姓名:student2, 國文:59, 英文:63, 數學:54, \n",
      "姓名:student3, 國文:79, 英文:68, 數學:95, \n",
      "姓名:student4, 國文:89, 英文:54, 數學:81, \n",
      "姓名:student5, 國文:74, 英文:53, 數學:81, \n",
      "姓名:student6, 國文:50, 英文:74, 數學:73, \n",
      "姓名:student7, 國文:96, 英文:51, 數學:79, \n",
      "姓名:student8, 國文:84, 英文:63, 數學:63, \n",
      "姓名:student9, 國文:64, 英文:91, 數學:64, \n",
      "姓名:student10, 國文:89, 英文:71, 數學:96, \n",
      "姓名:student11, 國文:60, 英文:91, 數學:63, \n",
      "姓名:student12, 國文:78, 英文:86, 數學:71, \n",
      "姓名:student13, 國文:92, 英文:55, 數學:51, \n",
      "姓名:student14, 國文:95, 英文:89, 數學:89, \n",
      "姓名:student15, 國文:83, 英文:86, 數學:60, \n",
      "姓名:student16, 國文:53, 英文:73, 數學:50, \n",
      "姓名:student17, 國文:68, 英文:81, 數學:99, \n",
      "姓名:student18, 國文:64, 英文:70, 數學:69, \n",
      "姓名:student19, 國文:51, 英文:70, 數學:92, \n",
      "姓名:student20, 國文:90, 英文:93, 數學:52, \n",
      "姓名:student21, 國文:60, 英文:77, 數學:70, \n",
      "姓名:student22, 國文:75, 英文:66, 數學:72, \n",
      "姓名:student23, 國文:94, 英文:63, 數學:87, \n",
      "姓名:student24, 國文:72, 英文:68, 數學:90, \n",
      "姓名:student25, 國文:70, 英文:67, 數學:89, \n",
      "姓名:student26, 國文:97, 英文:98, 數學:94, \n",
      "姓名:student27, 國文:63, 英文:60, 數學:92, \n",
      "姓名:student28, 國文:87, 英文:94, 數學:55, \n",
      "姓名:student29, 國文:89, 英文:90, 數學:71, \n",
      "姓名:student30, 國文:87, 英文:79, 數學:94, \n",
      "姓名:student31, 國文:92, 英文:64, 數學:81, \n",
      "姓名:student32, 國文:89, 英文:52, 數學:100, \n",
      "姓名:student33, 國文:70, 英文:83, 數學:98, \n",
      "姓名:student34, 國文:68, 英文:52, 數學:52, \n",
      "姓名:student35, 國文:53, 英文:80, 數學:71, \n",
      "姓名:student36, 國文:83, 英文:71, 數學:62, \n",
      "姓名:student37, 國文:52, 英文:84, 數學:56, \n",
      "姓名:student38, 國文:90, 英文:52, 數學:81, \n",
      "姓名:student39, 國文:96, 英文:62, 數學:69, \n",
      "姓名:student40, 國文:72, 英文:96, 數學:61, \n",
      "姓名:student41, 國文:56, 英文:58, 數學:67, \n",
      "姓名:student42, 國文:91, 英文:53, 數學:64, \n",
      "姓名:student43, 國文:95, 英文:90, 數學:69, \n",
      "姓名:student44, 國文:93, 英文:90, 數學:89, \n",
      "姓名:student45, 國文:53, 英文:55, 數學:78, \n",
      "姓名:student46, 國文:60, 英文:57, 數學:54, \n",
      "姓名:student47, 國文:90, 英文:57, 數學:82, \n",
      "姓名:student48, 國文:94, 英文:53, 數學:67, \n",
      "姓名:student49, 國文:59, 英文:52, 數學:82, \n",
      "姓名:student50, 國文:71, 英文:94, 數學:71, \n"
     ]
    }
   ],
   "source": [
    "# 將 students 列表轉換為字串 就不會有括號\n",
    "students_str = '\\n'.join([\n",
    "    f\"姓名:{student['name']}, \"\n",
    "    f\"國文:{student['Chinese']}, \"\n",
    "    f\"英文:{student['English']}, \"\n",
    "    f\"數學:{student['math']}, \"\n",
    "\n",
    "    for student in students\n",
    "])\n",
    "\n",
    "print(students_str)"
   ]
  },
  {
   "cell_type": "code",
   "execution_count": 16,
   "metadata": {},
   "outputs": [],
   "source": [
    "print(students_str,file=open('students.txt',mode='w',encoding='utf-8'))\n",
    "#\"r\"—Read 讀取—為預設值，以讀取模式開啟「已存在」的檔案，若檔案不存在則會顯示error\n",
    "#w\"—Write 寫入(儲存) —以寫入模式開啟檔案，若檔案不存在則會直接寫入檔案(已存在的同名檔案會被抹除)\n",
    "#r+\"—Read and Write 讀寫—可以開啟檔案並進行讀取和寫入\n",
    "#utf-8為文字編碼 可支援英文以外的語言\n"
   ]
  }
 ],
 "metadata": {
  "kernelspec": {
   "display_name": "base",
   "language": "python",
   "name": "python3"
  },
  "language_info": {
   "codemirror_mode": {
    "name": "ipython",
    "version": 3
   },
   "file_extension": ".py",
   "mimetype": "text/x-python",
   "name": "python",
   "nbconvert_exporter": "python",
   "pygments_lexer": "ipython3",
   "version": "3.12.2"
  }
 },
 "nbformat": 4,
 "nbformat_minor": 2
}
