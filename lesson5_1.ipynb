{
 "cells": [
  {
   "cell_type": "code",
   "execution_count": 2,
   "metadata": {},
   "outputs": [
    {
     "name": "stdout",
     "output_type": "stream",
     "text": [
      "[{'機關': '澎湖縣政府', '機關預算員額數': '257', '通過英檢人數': '53', '通過英檢人數佔機關總人數百分比': '20.62%'},\n",
      " {'機關': '通過英檢初級人數',\n",
      "  '機關預算員額數': '257',\n",
      "  '通過英檢人數': '32',\n",
      "  '通過英檢人數佔機關總人數百分比': '12.45%'},\n",
      " {'機關': '通過英檢中級人數',\n",
      "  '機關預算員額數': '257',\n",
      "  '通過英檢人數': '11',\n",
      "  '通過英檢人數佔機關總人數百分比': '4.28%'},\n",
      " {'機關': '通過英檢中高級人數',\n",
      "  '機關預算員額數': '257',\n",
      "  '通過英檢人數': '10',\n",
      "  '通過英檢人數佔機關總人數百分比': '3.89%'},\n",
      " {'機關': '通過英檢高級人數',\n",
      "  '機關預算員額數': '257',\n",
      "  '通過英檢人數': '0',\n",
      "  '通過英檢人數佔機關總人數百分比': '0.00%'},\n",
      " {'機關': '合計', '機關預算員額數': '257', '通過英檢人數': '53', '通過英檢人數佔機關總人數百分比': '20.62%'}]\n"
     ]
    }
   ],
   "source": [
    "import csv\n",
    "from pprint import pprint\n",
    "with open(file='123.csv',encoding='utf-8') as file:\n",
    "   reader = csv. DictReader(file)\n",
    "   homes = list(reader)\n",
    "\n",
    "pprint(homes)"
   ]
  }
 ],
 "metadata": {
  "kernelspec": {
   "display_name": "base",
   "language": "python",
   "name": "python3"
  },
  "language_info": {
   "codemirror_mode": {
    "name": "ipython",
    "version": 3
   },
   "file_extension": ".py",
   "mimetype": "text/x-python",
   "name": "python",
   "nbconvert_exporter": "python",
   "pygments_lexer": "ipython3",
   "version": "3.12.8"
  }
 },
 "nbformat": 4,
 "nbformat_minor": 2
}
