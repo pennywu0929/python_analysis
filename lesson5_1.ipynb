{
 "cells": [
  {
   "cell_type": "code",
   "execution_count": null,
   "metadata": {},
   "outputs": [],
   "source": [
    "import csv\n",
    "from pprint import pprint #pprint->pretty-print數據美化輸出\n",
    "with open(file='123.csv',encoding='utf-8') as file:\n",
    "   reader = csv. DictReader(file)\n",
    "   Englishdata = list(reader)\n",
    "\n",
    "pprint(Englishdata)"
   ]
  },
  {
   "cell_type": "code",
   "execution_count": null,
   "metadata": {},
   "outputs": [],
   "source": [
    "import requests #requests用於發送HTTP請求\n",
    "\n",
    "url = 'https://tcgbusfs.blob.core.windows.net/dotapp/youbike/v2/youbike_immediate.json'\n",
    "\n",
    "try:\n",
    "    response = requests.get(url)\n",
    "    response.raise_for_status()  # 檢查HTTP狀態碼，確保請求成功\n",
    "\n",
    "    data = response.json()  # 將JSON格式的資料轉換為Python字典\n",
    "\n",
    "    # 在這裡你可以對data做任何處理，例如儲存到檔案或分析資料\n",
    "    # 以下是一個簡單的範例，將資料儲存到youbike_data.json檔案中\n",
    "    with open('youbike_data.json', 'w', encoding='utf-8') as f:\n",
    "        import json\n",
    "        json.dump(data, f, ensure_ascii=False, indent=4)\n",
    "\n",
    "    print('YouBike即時資訊下載完成！')\n",
    "\n",
    "except requests.exceptions.RequestException as e:\n",
    "    print(f'下載YouBike即時資訊時發生錯誤：{e}')\n",
    "except json.JSONDecodeError as e:\n",
    "    print(f'解析JSON資料時發生錯誤：{e}')\n"
   ]
  },
  {
   "cell_type": "code",
   "execution_count": 7,
   "metadata": {},
   "outputs": [
    {
     "data": {
      "text/plain": [
       "str"
      ]
     },
     "execution_count": 7,
     "metadata": {},
     "output_type": "execute_result"
    }
   ],
   "source": [
    "import requests\n",
    "from requests import Response\n",
    "\n",
    "url = 'https://tcgbusfs.blob.core.windows.net/dotapp/youbike/v2/youbike_immediate.json'\n",
    "reponse:Response = requests.get(url=url)\n",
    "type(response.text)\n"
   ]
  },
  {
   "cell_type": "code",
   "execution_count": null,
   "metadata": {},
   "outputs": [
    {
     "name": "stdout",
     "output_type": "stream",
     "text": [
      "{'sno': '500119005', 'sna': 'YouBike2.0_臺大水源舍區A棟', 'sarea': '臺大公館校區', 'mday': '2025-02-09 14:29:17', 'ar': '汀洲路三段60巷2弄路側(A舍北側)', 'sareaen': 'NTU Dist', 'snaen': 'YouBike2.0_NTU ShuiYuan Dorms(A)', 'aren': 'Aly. 2， Ln. 60， Sec. 3， Tingzhou Rd. Dorms A(North)', 'act': '1', 'srcUpdateTime': '2025-02-09 14:29:25', 'updateTime': '2025-02-09 14:29:52', 'infoTime': '2025-02-09 14:29:17', 'infoDate': '2025-02-09', 'total': 37, 'available_rent_bikes': 19, 'latitude': 25.01493, 'longitude': 121.53044, 'available_return_bikes': 18}\n",
      "{'sno': '500119006', 'sna': 'YouBike2.0_臺大卓越研究大樓', 'sarea': '臺大公館校區', 'mday': '2025-02-09 14:06:19', 'ar': '臺大水源舍區C南側', 'sareaen': 'NTU Dist', 'snaen': 'YouBike2.0_NTU Complex for Research Excellence', 'aren': 'NTU Prince House Chang Hsing Dorms C(South)', 'act': '1', 'srcUpdateTime': '2025-02-09 14:29:25', 'updateTime': '2025-02-09 14:29:52', 'infoTime': '2025-02-09 14:06:19', 'infoDate': '2025-02-09', 'total': 92, 'available_rent_bikes': 38, 'latitude': 25.01466, 'longitude': 121.52917, 'available_return_bikes': 54}\n",
      "{'sno': '500119007', 'sna': 'YouBike2.0_臺大水源修齊會館', 'sarea': '臺大公館校區', 'mday': '2025-02-09 14:24:17', 'ar': '思源街16號之1旁', 'sareaen': 'NTU Dist', 'snaen': 'YouBike2.0_NTU ShuiYuan HsiuChi House', 'aren': 'No.16-1， Siyuan St.', 'act': '1', 'srcUpdateTime': '2025-02-09 14:29:25', 'updateTime': '2025-02-09 14:29:52', 'infoTime': '2025-02-09 14:24:17', 'infoDate': '2025-02-09', 'total': 35, 'available_rent_bikes': 10, 'latitude': 25.01411, 'longitude': 121.52997, 'available_return_bikes': 25}\n",
      "{'sno': '500119008', 'sna': 'YouBike2.0_臺大檔案展示館', 'sarea': '臺大公館校區', 'mday': '2025-02-09 13:57:21', 'ar': '臺大檔案展示館東北側', 'sareaen': 'NTU Dist', 'snaen': 'YouBike2.0_NTU Archives', 'aren': 'NTU Archives(Northeast)', 'act': '1', 'srcUpdateTime': '2025-02-09 14:29:25', 'updateTime': '2025-02-09 14:29:52', 'infoTime': '2025-02-09 13:57:21', 'infoDate': '2025-02-09', 'total': 10, 'available_rent_bikes': 9, 'latitude': 25.01391, 'longitude': 121.52895, 'available_return_bikes': 1}\n",
      "{'sno': '500119009', 'sna': 'YouBike2.0_臺大水源舍區B棟', 'sarea': '臺大公館校區', 'mday': '2025-02-09 14:27:16', 'ar': '汀洲路三段60巷2弄路側(B舍北側)', 'sareaen': 'NTU Dist', 'snaen': 'YouBike2.0_NTU ShuiYuan Dorms(B)', 'aren': 'Aly. 2， Ln. 60， Sec. 3， Tingzhou Rd. Dorms B(North)', 'act': '1', 'srcUpdateTime': '2025-02-09 14:29:25', 'updateTime': '2025-02-09 14:29:52', 'infoTime': '2025-02-09 14:27:16', 'infoDate': '2025-02-09', 'total': 30, 'available_rent_bikes': 12, 'latitude': 25.01525, 'longitude': 121.53009, 'available_return_bikes': 17}\n",
      "{'sno': '500119043', 'sna': 'YouBike2.0_臺大男八舍東側', 'sarea': '臺大公館校區', 'mday': '2025-02-09 14:23:21', 'ar': '臺大男八舍東側', 'sareaen': 'NTU Dist', 'snaen': \"YouBike2.0_NTU 8th Men's Dorm(East)\", 'aren': \"NTU 8th Men's Dorm(East)\", 'act': '1', 'srcUpdateTime': '2025-02-09 14:29:25', 'updateTime': '2025-02-09 14:29:52', 'infoTime': '2025-02-09 14:23:21', 'infoDate': '2025-02-09', 'total': 42, 'available_rent_bikes': 3, 'latitude': 25.01729, 'longitude': 121.54531, 'available_return_bikes': 39}\n",
      "{'sno': '500119044', 'sna': 'YouBike2.0_臺大禮賢樓東南側', 'sarea': '臺大公館校區', 'mday': '2025-02-09 14:23:21', 'ar': '臺大仰萃樓東南側', 'sareaen': 'NTU Dist', 'snaen': 'YouBike2.0_NTU Courtesy House(Southeast)', 'aren': 'NTU The Apex Building(Southeast)', 'act': '1', 'srcUpdateTime': '2025-02-09 14:29:25', 'updateTime': '2025-02-09 14:29:52', 'infoTime': '2025-02-09 14:23:21', 'infoDate': '2025-02-09', 'total': 35, 'available_rent_bikes': 28, 'latitude': 25.01415, 'longitude': 121.53767, 'available_return_bikes': 7}\n",
      "{'sno': '500119045', 'sna': 'YouBike2.0_臺大農業陳列館北側', 'sarea': '臺大公館校區', 'mday': '2025-02-09 14:29:17', 'ar': '農業陳列館北側', 'sareaen': 'NTU Dist', 'snaen': 'YouBike2.0_NTU Agricultural Exhibition Hall(North)', 'aren': 'NTU Agricultural Exhibition Hall(North)', 'act': '1', 'srcUpdateTime': '2025-02-09 14:29:25', 'updateTime': '2025-02-09 14:29:52', 'infoTime': '2025-02-09 14:29:17', 'infoDate': '2025-02-09', 'total': 45, 'available_rent_bikes': 12, 'latitude': 25.01839, 'longitude': 121.53404, 'available_return_bikes': 33}\n",
      "{'sno': '500119046', 'sna': 'YouBike2.0_臺大管理學院二館北側', 'sarea': '臺大公館校區', 'mday': '2025-02-09 14:14:18', 'ar': '管理學院二號館北側', 'sareaen': 'NTU Dist', 'snaen': 'YouBike2.0_NTU Building 2， College of Management(North)', 'aren': 'NTU Building 2， College of Management(North)', 'act': '1', 'srcUpdateTime': '2025-02-09 14:29:25', 'updateTime': '2025-02-09 14:29:52', 'infoTime': '2025-02-09 14:14:18', 'infoDate': '2025-02-09', 'total': 40, 'available_rent_bikes': 12, 'latitude': 25.01355, 'longitude': 121.53673, 'available_return_bikes': 28}\n",
      "{'sno': '500119047', 'sna': 'YouBike2.0_臺大土木系館', 'sarea': '臺大公館校區', 'mday': '2025-02-09 14:25:18', 'ar': '臺大土木工程學系所南側', 'sareaen': 'NTU Dist', 'snaen': 'YouBike2.0_NTU Dept. of Civil Engineering', 'aren': 'NTU Dept. of Civil Engineering(South)', 'act': '1', 'srcUpdateTime': '2025-02-09 14:29:25', 'updateTime': '2025-02-09 14:29:52', 'infoTime': '2025-02-09 14:25:18', 'infoDate': '2025-02-09', 'total': 30, 'available_rent_bikes': 6, 'latitude': 25.01761, 'longitude': 121.53844, 'available_return_bikes': 24}\n",
      "{'sno': '500119048', 'sna': 'YouBike2.0_臺大大一女舍北側', 'sarea': '臺大公館校區', 'mday': '2025-02-09 14:28:18', 'ar': '臺大女一舍北側', 'sareaen': 'NTU Dist', 'snaen': \"YouBike2.0_NTU Freshman Women's Dorm(North)\", 'aren': \"NTU Freshman Women's Dorm(North)\", 'act': '1', 'srcUpdateTime': '2025-02-09 14:29:25', 'updateTime': '2025-02-09 14:29:52', 'infoTime': '2025-02-09 14:28:18', 'infoDate': '2025-02-09', 'total': 53, 'available_rent_bikes': 4, 'latitude': 25.01547, 'longitude': 121.53436, 'available_return_bikes': 49}\n",
      "{'sno': '500119049', 'sna': 'YouBike2.0_臺大女九舍西南側', 'sarea': '臺大公館校區', 'mday': '2025-02-09 14:10:20', 'ar': '臺大女九舍西南側', 'sareaen': 'NTU Dist', 'snaen': \"YouBike2.0_NTU 9th Women's Dorm(Southwest)\", 'aren': \"NTU 9th Women's Dorm(Southwest)\", 'act': '1', 'srcUpdateTime': '2025-02-09 14:29:25', 'updateTime': '2025-02-09 14:29:52', 'infoTime': '2025-02-09 14:10:20', 'infoDate': '2025-02-09', 'total': 99, 'available_rent_bikes': 21, 'latitude': 25.01981, 'longitude': 121.53903, 'available_return_bikes': 78}\n",
      "{'sno': '500119050', 'sna': 'YouBike2.0_臺大小福樓東側', 'sarea': '臺大公館校區', 'mday': '2025-02-09 14:29:17', 'ar': '臺大小福樓東側', 'sareaen': 'NTU Dist', 'snaen': 'YouBike2.0_NTU Xiao Fu Commissary(East)', 'aren': 'NTU Xiao Fu Commissary(East)', 'act': '1', 'srcUpdateTime': '2025-02-09 14:29:25', 'updateTime': '2025-02-09 14:29:52', 'infoTime': '2025-02-09 14:29:17', 'infoDate': '2025-02-09', 'total': 31, 'available_rent_bikes': 24, 'latitude': 25.01846, 'longitude': 121.5376, 'available_return_bikes': 7}\n",
      "{'sno': '500119051', 'sna': 'YouBike2.0_臺大立體機車停車場', 'sarea': '臺大公館校區', 'mday': '2025-02-09 14:24:17', 'ar': '基隆路三段/基隆路三段156巷口北側', 'sareaen': 'NTU Dist', 'snaen': 'YouBike2.0_NTU Parking lot(Motorcycle)', 'aren': 'Ln. 156， Sec. 3， Keelung Rd. Intersection(North)', 'act': '1', 'srcUpdateTime': '2025-02-09 14:29:25', 'updateTime': '2025-02-09 14:29:52', 'infoTime': '2025-02-09 14:24:17', 'infoDate': '2025-02-09', 'total': 27, 'available_rent_bikes': 2, 'latitude': 25.01616, 'longitude': 121.54251, 'available_return_bikes': 25}\n",
      "{'sno': '500119052', 'sna': 'YouBike2.0_臺大工綜館南側', 'sarea': '臺大公館校區', 'mday': '2025-02-09 14:27:15', 'ar': '臺大工學院東南側', 'sareaen': 'NTU Dist', 'snaen': 'YouBike2.0_NTU College of Engineering Building(South)', 'aren': 'NTU College of Engineering Building(Southeast)', 'act': '1', 'srcUpdateTime': '2025-02-09 14:29:25', 'updateTime': '2025-02-09 14:29:52', 'infoTime': '2025-02-09 14:27:15', 'infoDate': '2025-02-09', 'total': 26, 'available_rent_bikes': 6, 'latitude': 25.01857, 'longitude': 121.54059, 'available_return_bikes': 20}\n",
      "{'sno': '500119053', 'sna': 'YouBike2.0_臺大天文數學館南側', 'sarea': '臺大公館校區', 'mday': '2025-02-09 14:07:20', 'ar': '臺大天文數學館西南側', 'sareaen': 'NTU Dist', 'snaen': 'YouBike2.0_NTU Astronomy - Mathematics Building(South)', 'aren': 'NTU Astronomy - Mathematics Building(Southwest)', 'act': '1', 'srcUpdateTime': '2025-02-09 14:29:25', 'updateTime': '2025-02-09 14:29:52', 'infoTime': '2025-02-09 14:07:20', 'infoDate': '2025-02-09', 'total': 19, 'available_rent_bikes': 8, 'latitude': 25.02108, 'longitude': 121.53783, 'available_return_bikes': 11}\n",
      "{'sno': '500119054', 'sna': 'YouBike2.0_臺大心理系館南側', 'sarea': '臺大公館校區', 'mday': '2025-02-09 14:29:16', 'ar': '臺大心理學系南側', 'sareaen': 'NTU Dist', 'snaen': 'YouBike2.0_NTU Dept. of Psychology (South Hall)', 'aren': 'NTU Dept. of Psychology (South Hall)', 'act': '1', 'srcUpdateTime': '2025-02-09 14:29:25', 'updateTime': '2025-02-09 14:29:52', 'infoTime': '2025-02-09 14:29:16', 'infoDate': '2025-02-09', 'total': 30, 'available_rent_bikes': 12, 'latitude': 25.01941, 'longitude': 121.5404, 'available_return_bikes': 18}\n",
      "{'sno': '500119055', 'sna': 'YouBike2.0_臺大樂學館東側', 'sarea': '臺大公館校區', 'mday': '2025-02-09 14:28:18', 'ar': '臺大文學院西側', 'sareaen': 'NTU Dist', 'snaen': 'YouBike2.0_NTU Lesyue Building(East)', 'aren': 'Liberal Arts Research Building(West)', 'act': '1', 'srcUpdateTime': '2025-02-09 14:29:25', 'updateTime': '2025-02-09 14:29:52', 'infoTime': '2025-02-09 14:28:18', 'infoDate': '2025-02-09', 'total': 28, 'available_rent_bikes': 17, 'latitude': 25.01793, 'longitude': 121.53585, 'available_return_bikes': 11}\n",
      "{'sno': '500119056', 'sna': 'YouBike2.0_臺大農化新館西側', 'sarea': '臺大公館校區', 'mday': '2025-02-09 14:01:18', 'ar': '臺大生化科技學系西側', 'sareaen': 'NTU Dist', 'snaen': 'YouBike2.0_NTU New Agricultural Chemistry Building(West)', 'aren': 'NTU Department of Biochemical Science and Technology(West)', 'act': '1', 'srcUpdateTime': '2025-02-09 14:29:25', 'updateTime': '2025-02-09 14:29:52', 'infoTime': '2025-02-09 14:01:18', 'infoDate': '2025-02-09', 'total': 10, 'available_rent_bikes': 1, 'latitude': 25.01627, 'longitude': 121.53535, 'available_return_bikes': 9}\n",
      "{'sno': '500119057', 'sna': 'YouBike2.0_臺大五號館西側', 'sarea': '臺大公館校區', 'mday': '2025-02-09 14:18:17', 'ar': '臺大生物系館西側', 'sareaen': 'NTU Dist', 'snaen': 'YouBike2.0_NTU Building No.5(West)', 'aren': 'NTU Department of Bioenvironmental Systems Engineering(West)', 'act': '1', 'srcUpdateTime': '2025-02-09 14:29:25', 'updateTime': '2025-02-09 14:29:52', 'infoTime': '2025-02-09 14:18:17', 'infoDate': '2025-02-09', 'total': 48, 'available_rent_bikes': 24, 'latitude': 25.01666, 'longitude': 121.53718, 'available_return_bikes': 24}\n",
      "{'sno': '500119058', 'sna': 'YouBike2.0_臺大舊體育館西側', 'sarea': '臺大公館校區', 'mday': '2025-02-09 14:28:17', 'ar': '臺大田徑場東側', 'sareaen': 'NTU Dist', 'snaen': 'YouBike2.0_NTU Gymnasium(West)', 'aren': 'NTU Sports Field(East)', 'act': '1', 'srcUpdateTime': '2025-02-09 14:29:25', 'updateTime': '2025-02-09 14:29:52', 'infoTime': '2025-02-09 14:28:17', 'infoDate': '2025-02-09', 'total': 33, 'available_rent_bikes': 32, 'latitude': 25.0198, 'longitude': 121.53583, 'available_return_bikes': 1}\n",
      "{'sno': '500119059', 'sna': 'YouBike2.0_臺大共同教室北側', 'sarea': '臺大公館校區', 'mday': '2025-02-09 14:23:21', 'ar': '臺大共同教學館東北側', 'sareaen': 'NTU Dist', 'snaen': 'YouBike2.0_NTU Common Subjects Classroom Building(North)', 'aren': 'NTU Common Subjects Classroom Building(Northeast)', 'act': '1', 'srcUpdateTime': '2025-02-09 14:29:25', 'updateTime': '2025-02-09 14:29:52', 'infoTime': '2025-02-09 14:23:21', 'infoDate': '2025-02-09', 'total': 68, 'available_rent_bikes': 34, 'latitude': 25.01595, 'longitude': 121.53791, 'available_return_bikes': 34}\n",
      "{'sno': '500119060', 'sna': 'YouBike2.0_臺大共同教室東南側', 'sarea': '臺大公館校區', 'mday': '2025-02-09 14:27:15', 'ar': '臺大共同教學館東南側', 'sareaen': 'NTU Dist', 'snaen': 'YouBike2.0_NTU Common Subjects Classroom Building(Southeast)', 'aren': 'NTU Common Subjects Classroom Building(Southeast)', 'act': '1', 'srcUpdateTime': '2025-02-09 14:29:25', 'updateTime': '2025-02-09 14:29:52', 'infoTime': '2025-02-09 14:27:15', 'infoDate': '2025-02-09', 'total': 12, 'available_rent_bikes': 10, 'latitude': 25.01566, 'longitude': 121.53786, 'available_return_bikes': 2}\n",
      "{'sno': '500119061', 'sna': 'YouBike2.0_臺大鹿鳴堂東側', 'sarea': '臺大公館校區', 'mday': '2025-02-09 14:28:18', 'ar': '臺大鹿鳴廣場人行道側', 'sareaen': 'NTU Dist', 'snaen': 'YouBike2.0_NTU LuMing Hall(East)', 'aren': 'NTU Lu Ming Square(Sidewalk)', 'act': '1', 'srcUpdateTime': '2025-02-09 14:29:25', 'updateTime': '2025-02-09 14:29:52', 'infoTime': '2025-02-09 14:28:18', 'infoDate': '2025-02-09', 'total': 39, 'available_rent_bikes': 13, 'latitude': 25.01511, 'longitude': 121.53786, 'available_return_bikes': 26}\n",
      "{'sno': '500119062', 'sna': 'YouBike2.0_臺大公館停車場西北側', 'sarea': '臺大公館校區', 'mday': '2025-02-09 13:45:18', 'ar': '臺大公館停車場西北側', 'sareaen': 'NTU Dist', 'snaen': 'YouBike2.0_NTU Gongguan Car Park (Northwest)', 'aren': 'NTU Gongguan Car Park (Northwest)', 'act': '1', 'srcUpdateTime': '2025-02-09 14:29:25', 'updateTime': '2025-02-09 14:29:52', 'infoTime': '2025-02-09 13:45:18', 'infoDate': '2025-02-09', 'total': 12, 'available_rent_bikes': 1, 'latitude': 25.01345, 'longitude': 121.53798, 'available_return_bikes': 11}\n",
      "{'sno': '500119063', 'sna': 'YouBike2.0_臺大第二行政大樓南側', 'sarea': '臺大公館校區', 'mday': '2025-02-09 14:01:18', 'ar': '臺大行政大樓西側', 'sareaen': 'NTU Dist', 'snaen': 'YouBike2.0_NTU 2nd Administration Building(South)', 'aren': 'NTU Administration Building(West)', 'act': '1', 'srcUpdateTime': '2025-02-09 14:29:25', 'updateTime': '2025-02-09 14:29:52', 'infoTime': '2025-02-09 14:01:18', 'infoDate': '2025-02-09', 'total': 27, 'available_rent_bikes': 10, 'latitude': 25.01603, 'longitude': 121.53635, 'available_return_bikes': 17}\n",
      "{'sno': '500119064', 'sna': 'YouBike2.0_臺大明達館機車停車場', 'sarea': '臺大公館校區', 'mday': '2025-02-09 14:15:18', 'ar': '臺大明達館西側', 'sareaen': 'NTU Dist', 'snaen': 'YouBike2.0_NTU Ming - Da Hall Parking', 'aren': 'NTU Ming - Da Hall(West)', 'act': '1', 'srcUpdateTime': '2025-02-09 14:29:25', 'updateTime': '2025-02-09 14:29:52', 'infoTime': '2025-02-09 14:15:18', 'infoDate': '2025-02-09', 'total': 28, 'available_rent_bikes': 4, 'latitude': 25.01754, 'longitude': 121.54398, 'available_return_bikes': 24}\n",
      "{'sno': '500119065', 'sna': 'YouBike2.0_臺大二號館', 'sarea': '臺大公館校區', 'mday': '2025-02-09 14:25:18', 'ar': '臺大物理文物廳北側', 'sareaen': 'NTU Dist', 'snaen': 'YouBike2.0_NTU Building No.2', 'aren': 'NTU Heritage Hall of Physics', 'act': '1', 'srcUpdateTime': '2025-02-09 14:29:25', 'updateTime': '2025-02-09 14:29:52', 'infoTime': '2025-02-09 14:25:18', 'infoDate': '2025-02-09', 'total': 10, 'available_rent_bikes': 2, 'latitude': 25.01699, 'longitude': 121.53574, 'available_return_bikes': 8}\n",
      "{'sno': '500119066', 'sna': 'YouBike2.0_臺大凝態館南側', 'sarea': '臺大公館校區', 'mday': '2025-02-09 14:15:18', 'ar': '臺大物理系館南側', 'sareaen': 'NTU Dist', 'snaen': 'YouBike2.0_NTU Center for Condensed Matter Sciences(South)', 'aren': 'NTU Dept. of Physics Library', 'act': '1', 'srcUpdateTime': '2025-02-09 14:29:25', 'updateTime': '2025-02-09 14:29:52', 'infoTime': '2025-02-09 14:15:18', 'infoDate': '2025-02-09', 'total': 20, 'available_rent_bikes': 17, 'latitude': 25.02157, 'longitude': 121.53633, 'available_return_bikes': 3}\n",
      "{'sno': '500119067', 'sna': 'YouBike2.0_臺大社科院西側', 'sarea': '臺大公館校區', 'mday': '2025-02-09 14:26:19', 'ar': '臺大社科院西側', 'sareaen': 'NTU Dist', 'snaen': 'YouBike2.0_NTU College of social Sciences Building(West)', 'aren': 'NTU College of social Sciences Building(West)', 'act': '1', 'srcUpdateTime': '2025-02-09 14:29:25', 'updateTime': '2025-02-09 14:29:52', 'infoTime': '2025-02-09 14:26:19', 'infoDate': '2025-02-09', 'total': 42, 'available_rent_bikes': 7, 'latitude': 25.02053, 'longitude': 121.54145, 'available_return_bikes': 35}\n",
      "{'sno': '500119068', 'sna': 'YouBike2.0_臺大社會系館南側', 'sarea': '臺大公館校區', 'mday': '2025-02-09 14:20:37', 'ar': '臺大社會及社工館南側', 'sareaen': 'NTU Dist', 'snaen': 'YouBike2.0_NTU Department of Sociology(South)', 'aren': 'NTU Dept. of Sociology / Dept. of Social Work(South)', 'act': '1', 'srcUpdateTime': '2025-02-09 14:29:25', 'updateTime': '2025-02-09 14:29:52', 'infoTime': '2025-02-09 14:20:37', 'infoDate': '2025-02-09', 'total': 66, 'available_rent_bikes': 17, 'latitude': 25.01987, 'longitude': 121.54175, 'available_return_bikes': 49}\n",
      "{'sno': '500119069', 'sna': 'YouBike2.0_臺大思亮館東南側', 'sarea': '臺大公館校區', 'mday': '2025-02-09 14:02:18', 'ar': '臺大思亮館東南側', 'sareaen': 'NTU Dist', 'snaen': 'YouBike2.0_NTU Shih - Liang Hall(Southeast)', 'aren': 'NTU Shih - Liang Hall(Southeast)', 'act': '1', 'srcUpdateTime': '2025-02-09 14:29:25', 'updateTime': '2025-02-09 14:29:52', 'infoTime': '2025-02-09 14:02:18', 'infoDate': '2025-02-09', 'total': 26, 'available_rent_bikes': 7, 'latitude': 25.02074, 'longitude': 121.53906, 'available_return_bikes': 19}\n",
      "{'sno': '500119070', 'sna': 'YouBike2.0_臺大椰林小舖', 'sarea': '臺大公館校區', 'mday': '2025-02-09 14:21:18', 'ar': '臺大椰林小舖旁', 'sareaen': 'NTU Dist', 'snaen': 'YouBike2.0_NTU Green Cabin', 'aren': 'NTU Green Cabin', 'act': '1', 'srcUpdateTime': '2025-02-09 14:29:25', 'updateTime': '2025-02-09 14:29:52', 'infoTime': '2025-02-09 14:21:18', 'infoDate': '2025-02-09', 'total': 48, 'available_rent_bikes': 5, 'latitude': 25.01561, 'longitude': 121.53583, 'available_return_bikes': 43}\n",
      "{'sno': '500119071', 'sna': 'YouBike2.0_臺大計資中心南側', 'sarea': '臺大公館校區', 'mday': '2025-02-09 13:54:18', 'ar': '臺大計算機網路資訊中心南側', 'sareaen': 'NTU Dist', 'snaen': 'YouBike2.0_NTU Computer and Information Networking Center(South)', 'aren': 'NTU Computer and Information Networking Center(South)', 'act': '1', 'srcUpdateTime': '2025-02-09 14:29:25', 'updateTime': '2025-02-09 14:29:52', 'infoTime': '2025-02-09 13:54:18', 'infoDate': '2025-02-09', 'total': 34, 'available_rent_bikes': 11, 'latitude': 25.02036, 'longitude': 121.53992, 'available_return_bikes': 23}\n",
      "{'sno': '500119072', 'sna': 'YouBike2.0_臺大原分所北側', 'sarea': '臺大公館校區', 'mday': '2025-02-09 14:25:17', 'ar': '臺大原子與分子科學研究所東北側', 'sareaen': 'NTU Dist', 'snaen': 'YouBike2.0_NTU Institute of Atomic and Molecular Sciences(North)', 'aren': 'NTU Institute of Atomic and Molecular Sciences(Northeast)', 'act': '1', 'srcUpdateTime': '2025-02-09 14:29:25', 'updateTime': '2025-02-09 14:29:52', 'infoTime': '2025-02-09 14:25:17', 'infoDate': '2025-02-09', 'total': 12, 'available_rent_bikes': 4, 'latitude': 25.01881, 'longitude': 121.53868, 'available_return_bikes': 8}\n",
      "{'sno': '500119074', 'sna': 'YouBike2.0_臺大生命科學館西北側', 'sarea': '臺大公館校區', 'mday': '2025-02-09 14:15:18', 'ar': '臺大動物博物館西側', 'sareaen': 'NTU Dist', 'snaen': 'YouBike2.0_NTU Life Science Building(Northwest)', 'aren': 'Museum of Zoology(West)', 'act': '1', 'srcUpdateTime': '2025-02-09 14:29:25', 'updateTime': '2025-02-09 14:29:52', 'infoTime': '2025-02-09 14:15:18', 'infoDate': '2025-02-09', 'total': 30, 'available_rent_bikes': 9, 'latitude': 25.01548, 'longitude': 121.53825, 'available_return_bikes': 21}\n",
      "{'sno': '500119075', 'sna': 'YouBike2.0_臺大第一活動中心西南側', 'sarea': '臺大公館校區', 'mday': '2025-02-09 14:27:16', 'ar': '第一學生活動中心東南側', 'sareaen': 'NTU Dist', 'snaen': 'YouBike2.0_NTU 1st Student Activity Center(Southwest)', 'aren': 'NTU 1st Student Activity Center(Southeast)', 'act': '1', 'srcUpdateTime': '2025-02-09 14:29:25', 'updateTime': '2025-02-09 14:29:52', 'infoTime': '2025-02-09 14:27:16', 'infoDate': '2025-02-09', 'total': 48, 'available_rent_bikes': 22, 'latitude': 25.01761, 'longitude': 121.53995, 'available_return_bikes': 25}\n",
      "{'sno': '500119076', 'sna': 'YouBike2.0_臺大博理館西側', 'sarea': '臺大公館校區', 'mday': '2025-02-09 14:28:18', 'ar': '臺大博理館西側', 'sareaen': 'NTU Dist', 'snaen': 'YouBike2.0_NTU Barry Lam Hall(West)', 'aren': 'NTU Barry Lam Hall(West)', 'act': '1', 'srcUpdateTime': '2025-02-09 14:29:25', 'updateTime': '2025-02-09 14:29:52', 'infoTime': '2025-02-09 14:28:18', 'infoDate': '2025-02-09', 'total': 22, 'available_rent_bikes': 10, 'latitude': 25.01922, 'longitude': 121.54195, 'available_return_bikes': 12}\n",
      "{'sno': '500119077', 'sna': 'YouBike2.0_臺大博雅館西側', 'sarea': '臺大公館校區', 'mday': '2025-02-09 13:44:18', 'ar': '臺大博雅館西側', 'sareaen': 'NTU Dist', 'snaen': 'YouBike2.0_NTU Liberal Education Classroom Building(West)', 'aren': 'NTU Liberal Education Classroom Building(West)', 'act': '1', 'srcUpdateTime': '2025-02-09 14:29:25', 'updateTime': '2025-02-09 14:29:52', 'infoTime': '2025-02-09 13:44:18', 'infoDate': '2025-02-09', 'total': 56, 'available_rent_bikes': 14, 'latitude': 25.0189, 'longitude': 121.536, 'available_return_bikes': 42}\n",
      "{'sno': '500119078', 'sna': 'YouBike2.0_臺大森林館北側', 'sarea': '臺大公館校區', 'mday': '2025-02-09 14:27:16', 'ar': '臺大森林系學系北側', 'sareaen': 'NTU Dist', 'snaen': 'YouBike2.0_NTU Forestry Building(North)', 'aren': 'NTU Forestry Building(North)', 'act': '1', 'srcUpdateTime': '2025-02-09 14:29:25', 'updateTime': '2025-02-09 14:29:52', 'infoTime': '2025-02-09 14:27:16', 'infoDate': '2025-02-09', 'total': 10, 'available_rent_bikes': 4, 'latitude': 25.01704, 'longitude': 121.53888, 'available_return_bikes': 6}\n",
      "{'sno': '500119079', 'sna': 'YouBike2.0_臺大一號館', 'sarea': '臺大公館校區', 'mday': '2025-02-09 14:16:19', 'ar': '臺大植物魚類標本館一號館北側', 'sareaen': 'NTU Dist', 'snaen': 'YouBike2.0_NTU Building No.1', 'aren': 'NTU Building No.1(North)', 'act': '1', 'srcUpdateTime': '2025-02-09 14:29:25', 'updateTime': '2025-02-09 14:29:52', 'infoTime': '2025-02-09 14:16:19', 'infoDate': '2025-02-09', 'total': 19, 'available_rent_bikes': 1, 'latitude': 25.01698, 'longitude': 121.53455, 'available_return_bikes': 18}\n",
      "{'sno': '500119080', 'sna': 'YouBike2.0_臺大小小福西南側', 'sarea': '臺大公館校區', 'mday': '2025-02-09 14:02:18', 'ar': '臺大進修教育大樓', 'sareaen': 'NTU Dist', 'snaen': 'YouBike2.0_NTU Xiao Xiao Fu Commissary(Southwest)', 'aren': 'NTU Omnium Gatherum Building', 'act': '1', 'srcUpdateTime': '2025-02-09 14:29:25', 'updateTime': '2025-02-09 14:29:52', 'infoTime': '2025-02-09 14:02:18', 'infoDate': '2025-02-09', 'total': 10, 'available_rent_bikes': 2, 'latitude': 25.01539, 'longitude': 121.53686, 'available_return_bikes': 8}\n",
      "{'sno': '500119081', 'sna': 'YouBike2.0_臺大教研館北側', 'sarea': '臺大公館校區', 'mday': '2025-02-09 14:23:21', 'ar': '臺大雅頌廣場東南側', 'sareaen': 'NTU Dist', 'snaen': 'YouBike2.0_NTU Teaching and Research Building(North)', 'aren': 'NTU The Odeum Square(Southeast)', 'act': '1', 'srcUpdateTime': '2025-02-09 14:29:25', 'updateTime': '2025-02-09 14:29:52', 'infoTime': '2025-02-09 14:23:21', 'infoDate': '2025-02-09', 'total': 26, 'available_rent_bikes': 13, 'latitude': 25.01337, 'longitude': 121.53909, 'available_return_bikes': 13}\n",
      "{'sno': '500119082', 'sna': 'YouBike2.0_臺大四號館東北側', 'sarea': '臺大公館校區', 'mday': '2025-02-09 14:11:18', 'ar': '臺大園藝暨景觀學系北側', 'sareaen': 'NTU Dist', 'snaen': 'YouBike2.0_NTU Building No.4(Northeast)', 'aren': 'NTU Department of Horticulture(North)', 'act': '1', 'srcUpdateTime': '2025-02-09 14:29:25', 'updateTime': '2025-02-09 14:29:52', 'infoTime': '2025-02-09 14:11:18', 'infoDate': '2025-02-09', 'total': 10, 'available_rent_bikes': 1, 'latitude': 25.01703, 'longitude': 121.53781, 'available_return_bikes': 9}\n",
      "{'sno': '500119083', 'sna': 'YouBike2.0_臺大新生教室南側', 'sarea': '臺大公館校區', 'mday': '2025-02-09 14:16:19', 'ar': '臺大新生教學館南側', 'sareaen': 'NTU Dist', 'snaen': 'YouBike2.0_NTU Freshman Classroom Building(South)', 'aren': 'NTU Freshman Classroom Building(South)', 'act': '1', 'srcUpdateTime': '2025-02-09 14:29:25', 'updateTime': '2025-02-09 14:29:52', 'infoTime': '2025-02-09 14:16:19', 'infoDate': '2025-02-09', 'total': 18, 'available_rent_bikes': 13, 'latitude': 25.0196, 'longitude': 121.53846, 'available_return_bikes': 5}\n",
      "{'sno': '500119084', 'sna': 'YouBike2.0_臺大鄭江樓北側', 'sarea': '臺大公館校區', 'mday': '2025-02-09 14:19:18', 'ar': '臺大鄭江樓東南側', 'sareaen': 'NTU Dist', 'snaen': 'YouBike2.0_NTU Tseng Jiang Hall(North)', 'aren': 'NTU Graduate Institute of Journalism(South)', 'act': '1', 'srcUpdateTime': '2025-02-09 14:29:25', 'updateTime': '2025-02-09 14:29:52', 'infoTime': '2025-02-09 14:19:18', 'infoDate': '2025-02-09', 'total': 40, 'available_rent_bikes': 5, 'latitude': 25.01854, 'longitude': 121.54309, 'available_return_bikes': 35}\n",
      "{'sno': '500119085', 'sna': 'YouBike2.0_臺大電機二館東南側', 'sarea': '臺大公館校區', 'mday': '2025-02-09 14:17:18', 'ar': '臺大電機二館南側', 'sareaen': 'NTU Dist', 'snaen': 'YouBike2.0_NTU E. E. Building No. 2(Southeast)', 'aren': 'NTU E. E. Building No. 2(Southeast)', 'act': '1', 'srcUpdateTime': '2025-02-09 14:29:25', 'updateTime': '2025-02-09 14:29:52', 'infoTime': '2025-02-09 14:17:18', 'infoDate': '2025-02-09', 'total': 14, 'available_rent_bikes': 6, 'latitude': 25.01857, 'longitude': 121.54247, 'available_return_bikes': 8}\n",
      "{'sno': '500119086', 'sna': 'YouBike2.0_臺大圖資系館北側', 'sarea': '臺大公館校區', 'mday': '2025-02-09 14:00:23', 'ar': '臺大圖書資訊館北側', 'sareaen': 'NTU Dist', 'snaen': 'YouBike2.0_NTU Dept. of Library and Information Sciences(North)', 'aren': 'NTU Dept. of Library and Information Sciences(North)', 'act': '1', 'srcUpdateTime': '2025-02-09 14:29:25', 'updateTime': '2025-02-09 14:29:52', 'infoTime': '2025-02-09 14:00:23', 'infoDate': '2025-02-09', 'total': 51, 'available_rent_bikes': 3, 'latitude': 25.01804, 'longitude': 121.53928, 'available_return_bikes': 47}\n",
      "{'sno': '500119087', 'sna': 'YouBike2.0_臺大總圖書館西南側', 'sarea': '臺大公館校區', 'mday': '2025-02-09 14:27:16', 'ar': '臺大圖書館西南側', 'sareaen': 'NTU Dist', 'snaen': 'YouBike2.0_NTU Main Library(Southwest)', 'aren': 'NTU Main Library(Southwest)', 'act': '1', 'srcUpdateTime': '2025-02-09 14:29:25', 'updateTime': '2025-02-09 14:29:52', 'infoTime': '2025-02-09 14:27:16', 'infoDate': '2025-02-09', 'total': 30, 'available_rent_bikes': 16, 'latitude': 25.0169, 'longitude': 121.54031, 'available_return_bikes': 14}\n",
      "{'sno': '500119088', 'sna': 'YouBike2.0_臺大黑森林西側', 'sarea': '臺大公館校區', 'mday': '2025-02-09 14:06:19', 'ar': '臺大霖澤館南側', 'sareaen': 'NTU Dist', 'snaen': 'YouBike2.0_NTU Black Forest(West)', 'aren': 'NTU Tsai Lecture Hall(South)', 'act': '1', 'srcUpdateTime': '2025-02-09 14:29:25', 'updateTime': '2025-02-09 14:29:52', 'infoTime': '2025-02-09 14:06:19', 'infoDate': '2025-02-09', 'total': 35, 'available_rent_bikes': 6, 'latitude': 25.01995, 'longitude': 121.54347, 'available_return_bikes': 29}\n",
      "{'sno': '500119089', 'sna': 'YouBike2.0_臺大獸醫館南側', 'sarea': '臺大公館校區', 'mday': '2025-02-09 14:23:21', 'ar': '臺大獸醫系館南側', 'sareaen': 'NTU Dist', 'snaen': 'YouBike2.0_NTU Dept. of Veterinary Medicine(South)', 'aren': 'NTU Dept. of Veterinary Medicine(South)', 'act': '1', 'srcUpdateTime': '2025-02-09 14:29:25', 'updateTime': '2025-02-09 14:29:52', 'infoTime': '2025-02-09 14:23:21', 'infoDate': '2025-02-09', 'total': 24, 'available_rent_bikes': 11, 'latitude': 25.01791, 'longitude': 121.54242, 'available_return_bikes': 12}\n",
      "{'sno': '500119090', 'sna': 'YouBike2.0_臺大新體育館東南側', 'sarea': '臺大公館校區', 'mday': '2025-02-09 14:29:17', 'ar': '臺大體育館東側', 'sareaen': 'NTU Dist', 'snaen': 'YouBike2.0_NTU Sports Center(Southeast)', 'aren': 'NTU Sports Center(East)', 'act': '1', 'srcUpdateTime': '2025-02-09 14:29:25', 'updateTime': '2025-02-09 14:29:52', 'infoTime': '2025-02-09 14:29:17', 'infoDate': '2025-02-09', 'total': 51, 'available_rent_bikes': 27, 'latitude': 25.02112, 'longitude': 121.53591, 'available_return_bikes': 18}\n",
      "{'sno': '500119091', 'sna': 'YouBike2.0_臺大明達館北側(員工宿舍)', 'sarea': '臺大公館校區', 'mday': '2025-02-09 14:29:17', 'ar': '明達館北側前空地', 'sareaen': 'NTU Dist', 'snaen': 'YouBike2.0_NTU Ming - Da Hall (Staff Dormitory)', 'aren': 'NTU Ming - Da Hall (North)', 'act': '1', 'srcUpdateTime': '2025-02-09 14:29:25', 'updateTime': '2025-02-09 14:29:52', 'infoTime': '2025-02-09 14:29:17', 'infoDate': '2025-02-09', 'total': 18, 'available_rent_bikes': 6, 'latitude': 25.01816, 'longitude': 121.54469, 'available_return_bikes': 12}\n",
      "{'sno': '500119092', 'sna': 'YouBike2.0_臺大管理學院一館', 'sarea': '臺大公館校區', 'mday': '2025-02-09 14:29:17', 'ar': '臺大管理學院一館前', 'sareaen': 'NTU Dist', 'snaen': 'YouBike2.0_NTU Bldg.1 College of Management', 'aren': 'NTU Bldg.1 College of Management', 'act': '1', 'srcUpdateTime': '2025-02-09 14:29:25', 'updateTime': '2025-02-09 14:29:52', 'infoTime': '2025-02-09 14:29:17', 'infoDate': '2025-02-09', 'total': 17, 'available_rent_bikes': 16, 'latitude': 25.01436, 'longitude': 121.53828, 'available_return_bikes': 1}\n",
      "{'sno': '500119093', 'sna': 'YouBike2.0_臺大禮賢樓西側', 'sarea': '臺大公館校區', 'mday': '2025-02-09 14:21:19', 'ar': '臺大禮賢樓西側空地', 'sareaen': 'NTU Dist', 'snaen': 'YouBike2.0_NTU LIxian Hall (West)', 'aren': 'NTU LIxian Hall (West)', 'act': '1', 'srcUpdateTime': '2025-02-09 14:29:25', 'updateTime': '2025-02-09 14:29:52', 'infoTime': '2025-02-09 14:21:19', 'infoDate': '2025-02-09', 'total': 36, 'available_rent_bikes': 23, 'latitude': 25.01467, 'longitude': 121.53765, 'available_return_bikes': 13}\n",
      "{'sno': '500119094', 'sna': 'YouBike2.0_臺大大一女餐廳廣場', 'sarea': '臺大公館校區', 'mday': '2025-02-09 14:14:18', 'ar': '臺大大一女餐廳廣場後方', 'sareaen': 'NTU Dist', 'snaen': \"YouBike2.0_NTU Freshman Women's Dorm Restaurant\", 'aren': \"NTU Freshman Women's Dorm Restaurant\", 'act': '1', 'srcUpdateTime': '2025-02-09 14:29:25', 'updateTime': '2025-02-09 14:29:52', 'infoTime': '2025-02-09 14:14:18', 'infoDate': '2025-02-09', 'total': 40, 'available_rent_bikes': 21, 'latitude': 25.01479, 'longitude': 121.53494, 'available_return_bikes': 2}\n",
      "{'sno': '500119095', 'sna': 'YouBike2.0_臺大學新館', 'sarea': '臺大公館校區', 'mday': '2025-02-09 14:20:37', 'ar': '臺大學新館旁', 'sareaen': 'NTU Dist', 'snaen': 'YouBike2.0_NTU MK Innovation Hall', 'aren': 'NTU MK Innovation Hall', 'act': '1', 'srcUpdateTime': '2025-02-09 14:29:25', 'updateTime': '2025-02-09 14:29:52', 'infoTime': '2025-02-09 14:20:37', 'infoDate': '2025-02-09', 'total': 33, 'available_rent_bikes': 20, 'latitude': 25.01944, 'longitude': 121.54339, 'available_return_bikes': 13}\n",
      "{'sno': '500119096', 'sna': 'YouBike2.0_臺大水源舍區C棟', 'sarea': '臺大公館校區', 'mday': '2025-02-09 14:18:17', 'ar': '臺大水源舍區C棟西側', 'sareaen': 'NTU Dist', 'snaen': 'YouBike2.0_NTU Shui-Yuan Dorms C', 'aren': 'NTU Shui-Yuan Dorms C (West)', 'act': '1', 'srcUpdateTime': '2025-02-09 14:29:25', 'updateTime': '2025-02-09 14:29:52', 'infoTime': '2025-02-09 14:18:17', 'infoDate': '2025-02-09', 'total': 99, 'available_rent_bikes': 36, 'latitude': 25.01547, 'longitude': 121.52892, 'available_return_bikes': 63}\n",
      "{'sno': '500119097', 'sna': 'YouBike2.0_臺大人文館', 'sarea': '臺大公館校區', 'mday': '2025-02-09 14:19:18', 'ar': '臺大人文館東北側', 'sareaen': 'NTU Dist', 'snaen': 'YouBike2.0_NTU The College of Liberal Arts', 'aren': 'NTU The College of Liberal Arts (Northeast)', 'act': '1', 'srcUpdateTime': '2025-02-09 14:29:25', 'updateTime': '2025-02-09 14:29:52', 'infoTime': '2025-02-09 14:19:18', 'infoDate': '2025-02-09', 'total': 67, 'available_rent_bikes': 30, 'latitude': 25.0182, 'longitude': 121.53476, 'available_return_bikes': 37}\n"
     ]
    }
   ],
   "source": [
    "sites:list = response.json()\n",
    "for item in sites: #for in 迴圈\n",
    "    if item['sarea'] == '臺大公館校區': #if判斷,==比對撈出相同的資料\n",
    "        print(item)"
   ]
  }
 ],
 "metadata": {
  "kernelspec": {
   "display_name": "base",
   "language": "python",
   "name": "python3"
  },
  "language_info": {
   "codemirror_mode": {
    "name": "ipython",
    "version": 3
   },
   "file_extension": ".py",
   "mimetype": "text/x-python",
   "name": "python",
   "nbconvert_exporter": "python",
   "pygments_lexer": "ipython3",
   "version": "3.12.8"
  }
 },
 "nbformat": 4,
 "nbformat_minor": 2
}
