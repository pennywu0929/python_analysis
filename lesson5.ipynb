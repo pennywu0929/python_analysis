{
 "cells": [
  {
   "cell_type": "code",
   "execution_count": 2,
   "metadata": {},
   "outputs": [
    {
     "data": {
      "text/plain": [
       "15"
      ]
     },
     "execution_count": 2,
     "metadata": {},
     "output_type": "execute_result"
    }
   ],
   "source": [
    "total = sum((1,2,3,4,5))\n",
    "total"
   ]
  },
  {
   "cell_type": "code",
   "execution_count": 1,
   "metadata": {},
   "outputs": [
    {
     "data": {
      "text/plain": [
       "15"
      ]
     },
     "execution_count": 1,
     "metadata": {},
     "output_type": "execute_result"
    }
   ],
   "source": [
    "sum((1,2,3,4,5))"
   ]
  },
  {
   "cell_type": "code",
   "execution_count": 3,
   "metadata": {},
   "outputs": [
    {
     "data": {
      "text/plain": [
       "[1, 2, 3, 4, 5]"
      ]
     },
     "execution_count": 3,
     "metadata": {},
     "output_type": "execute_result"
    }
   ],
   "source": [
    "l2 = list((1,2,3,4,5))\n",
    "l2"
   ]
  },
  {
   "cell_type": "code",
   "execution_count": 4,
   "metadata": {},
   "outputs": [
    {
     "data": {
      "text/plain": [
       "[1, 2, 3, 4, 5, 6]"
      ]
     },
     "execution_count": 4,
     "metadata": {},
     "output_type": "execute_result"
    }
   ],
   "source": [
    "l2.append(6)\n",
    "l2"
   ]
  },
  {
   "cell_type": "code",
   "execution_count": 7,
   "metadata": {},
   "outputs": [],
   "source": [
    "file = open(file='student.csv',encoding='utf-8')\n",
    "file.close()"
   ]
  },
  {
   "cell_type": "code",
   "execution_count": 8,
   "metadata": {},
   "outputs": [
    {
     "name": "stdout",
     "output_type": "stream",
     "text": [
      "name,chinese,english,math,history,health\n",
      "student1,81,100,98,77,68\n",
      "student2,57,96,53,86,54\n",
      "student3,60,86,60,95,52\n",
      "student4,67,53,83,70,91\n",
      "student5,81,61,68,100,52\n",
      "student6,91,53,84,75,97\n",
      "student7,85,83,74,78,69\n",
      "student8,55,80,84,97,51\n",
      "student9,95,68,84,83,76\n",
      "student10,96,60,83,88,73\n",
      "student11,77,72,62,84,81\n",
      "student12,97,55,73,62,53\n",
      "student13,84,98,79,94,96\n",
      "student14,93,78,56,60,93\n",
      "student15,60,85,73,65,59\n",
      "student16,72,75,85,74,98\n",
      "student17,74,62,54,76,67\n",
      "student18,95,76,82,69,52\n",
      "student19,97,72,84,59,97\n",
      "student20,59,66,76,83,85\n",
      "student21,52,99,67,79,75\n",
      "student22,66,95,90,100,86\n",
      "student23,98,90,70,82,62\n",
      "student24,85,78,58,82,68\n",
      "student25,63,82,66,93,78\n",
      "student26,91,88,97,86,93\n",
      "student27,96,61,85,75,95\n",
      "student28,55,87,97,79,60\n",
      "student29,80,60,61,78,68\n",
      "student30,95,65,87,55,93\n",
      "student31,84,57,97,77,60\n",
      "student32,99,55,98,83,65\n",
      "student33,75,51,60,100,79\n",
      "student34,92,93,79,67,100\n",
      "student35,82,95,59,95,61\n",
      "student36,96,55,66,86,72\n",
      "student37,100,81,59,56,87\n",
      "student38,54,65,96,73,87\n",
      "student39,80,96,88,50,51\n",
      "student40,92,77,75,86,84\n",
      "student41,99,92,92,62,77\n",
      "student42,59,92,68,83,97\n",
      "student43,93,51,92,89,82\n",
      "student44,94,73,95,64,60\n",
      "student45,57,76,69,76,86\n",
      "student46,87,57,86,92,58\n",
      "student47,60,80,82,71,61\n",
      "student48,61,50,58,64,94\n",
      "student49,52,80,51,62,65\n",
      "student50,94,66,92,77,73\n",
      "\n"
     ]
    }
   ],
   "source": [
    "with open(file='student.csv',encoding='utf-8') as file:\n",
    "    content:str = file.read()\n",
    "print(content)"
   ]
  }
 ],
 "metadata": {
  "kernelspec": {
   "display_name": "base",
   "language": "python",
   "name": "python3"
  },
  "language_info": {
   "codemirror_mode": {
    "name": "ipython",
    "version": 3
   },
   "file_extension": ".py",
   "mimetype": "text/x-python",
   "name": "python",
   "nbconvert_exporter": "python",
   "pygments_lexer": "ipython3",
   "version": "3.12.8"
  }
 },
 "nbformat": 4,
 "nbformat_minor": 2
}
