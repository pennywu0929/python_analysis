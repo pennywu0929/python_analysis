{
 "cells": [
  {
   "cell_type": "code",
   "execution_count": 2,
   "metadata": {},
   "outputs": [
    {
     "data": {
      "text/plain": [
       "[59, 92, 83]"
      ]
     },
     "execution_count": 2,
     "metadata": {},
     "output_type": "execute_result"
    }
   ],
   "source": [
    "scores = [56, 89, 80]\n",
    "new_scores = []\n",
    "\n",
    "for score in scores:\n",
    "    new_scores.append(score + 3)\n",
    "\n",
    "new_scores"
   ]
  },
  {
   "cell_type": "code",
   "execution_count": 3,
   "metadata": {},
   "outputs": [
    {
     "data": {
      "text/plain": [
       "[81, 92, 93]"
      ]
     },
     "execution_count": 3,
     "metadata": {},
     "output_type": "execute_result"
    }
   ],
   "source": [
    "#list comprehention(快速建立list)\n",
    "scores = [78, 89, 90]\n",
    "new_scores = [score+3 for score in scores]\n",
    "new_scores"
   ]
  },
  {
   "cell_type": "code",
   "execution_count": 4,
   "metadata": {},
   "outputs": [
    {
     "data": {
      "text/plain": [
       "[78, 69, 65, 78, 69, 65]"
      ]
     },
     "execution_count": 4,
     "metadata": {},
     "output_type": "execute_result"
    }
   ],
   "source": [
    "scores = [78, 69, 65]\n",
    "scores * 2"
   ]
  },
  {
   "cell_type": "code",
   "execution_count": 5,
   "metadata": {},
   "outputs": [
    {
     "data": {
      "text/plain": [
       "[67, 92, 85, 78, 69, 65]"
      ]
     },
     "execution_count": 5,
     "metadata": {},
     "output_type": "execute_result"
    }
   ],
   "source": [
    "[67, 92, 85] + [78, 69, 65]"
   ]
  },
  {
   "cell_type": "code",
   "execution_count": 6,
   "metadata": {},
   "outputs": [
    {
     "name": "stdout",
     "output_type": "stream",
     "text": [
      "<class 'numpy.ndarray'>\n"
     ]
    },
    {
     "data": {
      "text/plain": [
       "array([81, 72, 68])"
      ]
     },
     "execution_count": 6,
     "metadata": {},
     "output_type": "execute_result"
    }
   ],
   "source": [
    "import numpy as np\n",
    "\n",
    "scores = np.array([78, 69, 65])\n",
    "print(type(scores))\n",
    "scores + 3"
   ]
  },
  {
   "cell_type": "code",
   "execution_count": 7,
   "metadata": {},
   "outputs": [
    {
     "data": {
      "text/plain": [
       "np.float64(69.0)"
      ]
     },
     "execution_count": 7,
     "metadata": {},
     "output_type": "execute_result"
    }
   ],
   "source": [
    "scores.sum()\n",
    "scores.mean()\n",
    "scores.std()\n",
    "scores.min()\n",
    "scores.max()\n",
    "np.median(scores)"
   ]
  },
  {
   "cell_type": "code",
   "execution_count": null,
   "metadata": {},
   "outputs": [
    {
     "data": {
      "text/plain": [
       "array([[67, 89, 90],\n",
       "       [60, 58, 80],\n",
       "       [38, 59, 99]])"
      ]
     },
     "execution_count": 10,
     "metadata": {},
     "output_type": "execute_result"
    }
   ],
   "source": [
    "import numpy as np\n",
    "students = np.array([[67,89,90],[60,58,80],[38,59,99]]) #array是二維陣列\n",
    "students"
   ]
  },
  {
   "cell_type": "code",
   "execution_count": null,
   "metadata": {},
   "outputs": [
    {
     "data": {
      "text/plain": [
       "(2, 9, (3, 3), dtype('int64'))"
      ]
     },
     "execution_count": 11,
     "metadata": {},
     "output_type": "execute_result"
    }
   ],
   "source": [
    "#常用的查詢屬性\n",
    "students.ndim, #維度\n",
    "students.size, #元素數量\n",
    "students.shape, #列數與欄數\n",
    "students.dtype #資料型態,64為位元數"
   ]
  },
  {
   "cell_type": "code",
   "execution_count": 12,
   "metadata": {},
   "outputs": [
    {
     "data": {
      "text/plain": [
       "np.int64(67)"
      ]
     },
     "execution_count": 12,
     "metadata": {},
     "output_type": "execute_result"
    }
   ],
   "source": [
    "students[0,0] #取得第一列第一欄的值"
   ]
  },
  {
   "cell_type": "code",
   "execution_count": null,
   "metadata": {},
   "outputs": [
    {
     "data": {
      "text/plain": [
       "array([67, 89, 90])"
      ]
     },
     "execution_count": 13,
     "metadata": {},
     "output_type": "execute_result"
    }
   ],
   "source": [
    "#第1位學生分數\n",
    "students[0,:] #[列,欄],:表示從最前面到最後面"
   ]
  },
  {
   "cell_type": "code",
   "execution_count": null,
   "metadata": {},
   "outputs": [
    {
     "data": {
      "text/plain": [
       "array([[67, 89, 90],\n",
       "       [60, 58, 80]])"
      ]
     },
     "execution_count": 14,
     "metadata": {},
     "output_type": "execute_result"
    }
   ],
   "source": [
    "#前2個學生\n",
    "students[0:2,:] #包含0,不包含2"
   ]
  },
  {
   "cell_type": "code",
   "execution_count": null,
   "metadata": {},
   "outputs": [
    {
     "data": {
      "text/plain": [
       "array([[ 63,  61,  83],\n",
       "       [ 41,  62, 102]])"
      ]
     },
     "execution_count": 15,
     "metadata": {},
     "output_type": "execute_result"
    }
   ],
   "source": [
    "#最後2個學生\n",
    "students[-2:] + 3 #倒數算起的正列運算"
   ]
  },
  {
   "cell_type": "code",
   "execution_count": 16,
   "metadata": {},
   "outputs": [
    {
     "data": {
      "text/plain": [
       "array([67, 60, 38])"
      ]
     },
     "execution_count": 16,
     "metadata": {},
     "output_type": "execute_result"
    }
   ],
   "source": [
    "#國文\n",
    "students[:,0]"
   ]
  },
  {
   "cell_type": "code",
   "execution_count": 17,
   "metadata": {},
   "outputs": [
    {
     "data": {
      "text/plain": [
       "array([[67, 89],\n",
       "       [60, 58],\n",
       "       [38, 59]])"
      ]
     },
     "execution_count": 17,
     "metadata": {},
     "output_type": "execute_result"
    }
   ],
   "source": [
    "students[:,:2] #所有學生的前2科"
   ]
  },
  {
   "cell_type": "code",
   "execution_count": null,
   "metadata": {},
   "outputs": [
    {
     "data": {
      "text/plain": [
       "array([[100,  89,  90],\n",
       "       [ 60,  58,  80],\n",
       "       [ 38,  59,  99]])"
      ]
     },
     "execution_count": 18,
     "metadata": {},
     "output_type": "execute_result"
    }
   ],
   "source": [
    "students[0,0] = 100 #修改第1位學生的國文成績\n",
    "students"
   ]
  },
  {
   "cell_type": "code",
   "execution_count": null,
   "metadata": {},
   "outputs": [
    {
     "data": {
      "text/plain": [
       "array([[90, 89, 90],\n",
       "       [60, 58, 80],\n",
       "       [38, 59, 99]])"
      ]
     },
     "execution_count": 19,
     "metadata": {},
     "output_type": "execute_result"
    }
   ],
   "source": [
    "students[0,0] -= 10 #減10分\n",
    "students"
   ]
  },
  {
   "cell_type": "code",
   "execution_count": null,
   "metadata": {},
   "outputs": [
    {
     "data": {
      "text/html": [
       "<div>\n",
       "<style scoped>\n",
       "    .dataframe tbody tr th:only-of-type {\n",
       "        vertical-align: middle;\n",
       "    }\n",
       "\n",
       "    .dataframe tbody tr th {\n",
       "        vertical-align: top;\n",
       "    }\n",
       "\n",
       "    .dataframe thead th {\n",
       "        text-align: right;\n",
       "    }\n",
       "</style>\n",
       "<table border=\"1\" class=\"dataframe\">\n",
       "  <thead>\n",
       "    <tr style=\"text-align: right;\">\n",
       "      <th></th>\n",
       "      <th>國文</th>\n",
       "      <th>英文</th>\n",
       "      <th>數學</th>\n",
       "    </tr>\n",
       "  </thead>\n",
       "  <tbody>\n",
       "    <tr>\n",
       "      <th>stu1</th>\n",
       "      <td>90</td>\n",
       "      <td>89</td>\n",
       "      <td>90</td>\n",
       "    </tr>\n",
       "    <tr>\n",
       "      <th>stu2</th>\n",
       "      <td>60</td>\n",
       "      <td>58</td>\n",
       "      <td>80</td>\n",
       "    </tr>\n",
       "    <tr>\n",
       "      <th>stu3</th>\n",
       "      <td>38</td>\n",
       "      <td>59</td>\n",
       "      <td>99</td>\n",
       "    </tr>\n",
       "  </tbody>\n",
       "</table>\n",
       "</div>"
      ],
      "text/plain": [
       "      國文  英文  數學\n",
       "stu1  90  89  90\n",
       "stu2  60  58  80\n",
       "stu3  38  59  99"
      ]
     },
     "execution_count": 21,
     "metadata": {},
     "output_type": "execute_result"
    }
   ],
   "source": [
    "import pandas as pd #用pandas建立DataFrame,來生成實體表格\n",
    "pd.DataFrame(data=students,index=['stu1','stu2','stu3'],columns=['國文','英文','數學'])  "
   ]
  },
  {
   "cell_type": "code",
   "execution_count": null,
   "metadata": {},
   "outputs": [
    {
     "data": {
      "text/plain": [
       "['周琬婷', '劉昀天', '李蓉瑞', '高俊男', '陳信宏']"
      ]
     },
     "execution_count": 23,
     "metadata": {},
     "output_type": "execute_result"
    }
   ],
   "source": [
    "import random\n",
    "def get_names(nums:int=10)->list: #自訂Function,default值為10\n",
    "    with open('names.txt',encoding='utf-8') as file: #打開檔案\n",
    "        content = file.read() #讀取檔案內容\n",
    "        names = content.split('\\n') #以換行符號分割\n",
    "        random_names = random.sample(names,nums) #隨機取出nums個名字，且不重複(使用sample)\n",
    "\n",
    "    return random_names #結束函數回傳資料\n",
    "\n",
    "get_names(5)"
   ]
  },
  {
   "cell_type": "code",
   "execution_count": null,
   "metadata": {},
   "outputs": [
    {
     "data": {
      "text/html": [
       "<div>\n",
       "<style scoped>\n",
       "    .dataframe tbody tr th:only-of-type {\n",
       "        vertical-align: middle;\n",
       "    }\n",
       "\n",
       "    .dataframe tbody tr th {\n",
       "        vertical-align: top;\n",
       "    }\n",
       "\n",
       "    .dataframe thead th {\n",
       "        text-align: right;\n",
       "    }\n",
       "</style>\n",
       "<table border=\"1\" class=\"dataframe\">\n",
       "  <thead>\n",
       "    <tr style=\"text-align: right;\">\n",
       "      <th></th>\n",
       "      <th>國文</th>\n",
       "      <th>英文</th>\n",
       "      <th>數學</th>\n",
       "      <th>自然</th>\n",
       "      <th>社會</th>\n",
       "    </tr>\n",
       "  </thead>\n",
       "  <tbody>\n",
       "    <tr>\n",
       "      <th>王泓泰</th>\n",
       "      <td>70</td>\n",
       "      <td>68</td>\n",
       "      <td>70</td>\n",
       "      <td>94</td>\n",
       "      <td>55</td>\n",
       "    </tr>\n",
       "    <tr>\n",
       "      <th>洪阿惠</th>\n",
       "      <td>66</td>\n",
       "      <td>54</td>\n",
       "      <td>50</td>\n",
       "      <td>85</td>\n",
       "      <td>94</td>\n",
       "    </tr>\n",
       "    <tr>\n",
       "      <th>趙家豪</th>\n",
       "      <td>53</td>\n",
       "      <td>99</td>\n",
       "      <td>89</td>\n",
       "      <td>99</td>\n",
       "      <td>80</td>\n",
       "    </tr>\n",
       "    <tr>\n",
       "      <th>陳姵彬</th>\n",
       "      <td>73</td>\n",
       "      <td>57</td>\n",
       "      <td>59</td>\n",
       "      <td>51</td>\n",
       "      <td>79</td>\n",
       "    </tr>\n",
       "    <tr>\n",
       "      <th>葉志峰</th>\n",
       "      <td>93</td>\n",
       "      <td>58</td>\n",
       "      <td>87</td>\n",
       "      <td>51</td>\n",
       "      <td>70</td>\n",
       "    </tr>\n",
       "    <tr>\n",
       "      <th>張俊傑</th>\n",
       "      <td>80</td>\n",
       "      <td>98</td>\n",
       "      <td>75</td>\n",
       "      <td>61</td>\n",
       "      <td>88</td>\n",
       "    </tr>\n",
       "    <tr>\n",
       "      <th>呂傑宣</th>\n",
       "      <td>98</td>\n",
       "      <td>80</td>\n",
       "      <td>93</td>\n",
       "      <td>66</td>\n",
       "      <td>94</td>\n",
       "    </tr>\n",
       "    <tr>\n",
       "      <th>陳樂紫</th>\n",
       "      <td>100</td>\n",
       "      <td>91</td>\n",
       "      <td>71</td>\n",
       "      <td>62</td>\n",
       "      <td>73</td>\n",
       "    </tr>\n",
       "    <tr>\n",
       "      <th>陳逸凡</th>\n",
       "      <td>85</td>\n",
       "      <td>58</td>\n",
       "      <td>81</td>\n",
       "      <td>72</td>\n",
       "      <td>80</td>\n",
       "    </tr>\n",
       "    <tr>\n",
       "      <th>張天亨</th>\n",
       "      <td>55</td>\n",
       "      <td>79</td>\n",
       "      <td>91</td>\n",
       "      <td>86</td>\n",
       "      <td>50</td>\n",
       "    </tr>\n",
       "  </tbody>\n",
       "</table>\n",
       "</div>"
      ],
      "text/plain": [
       "      國文  英文  數學  自然  社會\n",
       "王泓泰   70  68  70  94  55\n",
       "洪阿惠   66  54  50  85  94\n",
       "趙家豪   53  99  89  99  80\n",
       "陳姵彬   73  57  59  51  79\n",
       "葉志峰   93  58  87  51  70\n",
       "張俊傑   80  98  75  61  88\n",
       "呂傑宣   98  80  93  66  94\n",
       "陳樂紫  100  91  71  62  73\n",
       "陳逸凡   85  58  81  72  80\n",
       "張天亨   55  79  91  86  50"
      ]
     },
     "execution_count": 26,
     "metadata": {},
     "output_type": "execute_result"
    }
   ],
   "source": [
    "student_nums = 10 #設定變數\n",
    "data = np.random.randint(50,high=101,size=(student_nums,5)) #隨機產生50-100之間的數字，取student_nums的人數，五個欄位\n",
    "students = pd.DataFrame(data,\n",
    "                        columns=['國文','英文','數學','自然','社會'],\n",
    "                        index = get_names(student_nums)) #columns為欄位名稱，index為列名稱\n",
    "\n",
    "students"
   ]
  }
 ],
 "metadata": {
  "kernelspec": {
   "display_name": "base",
   "language": "python",
   "name": "python3"
  },
  "language_info": {
   "codemirror_mode": {
    "name": "ipython",
    "version": 3
   },
   "file_extension": ".py",
   "mimetype": "text/x-python",
   "name": "python",
   "nbconvert_exporter": "python",
   "pygments_lexer": "ipython3",
   "version": "3.12.9"
  }
 },
 "nbformat": 4,
 "nbformat_minor": 2
}
